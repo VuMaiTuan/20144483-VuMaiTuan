{
  "cells": [
    {
      "cell_type": "markdown",
      "metadata": {
        "id": "view-in-github",
        "colab_type": "text"
      },
      "source": [
        "<a href=\"https://colab.research.google.com/github/VuMaiTuan/20144483-VuMaiTuan/blob/main/BUOI8.ipynb\" target=\"_parent\"><img src=\"https://colab.research.google.com/assets/colab-badge.svg\" alt=\"Open In Colab\"/></a>"
      ]
    },
    {
      "cell_type": "code",
      "execution_count": 16,
      "metadata": {
        "id": "xOvi039X996p"
      },
      "outputs": [],
      "source": [
        "from keras.datasets import mnist\n",
        "from matplotlib import pyplot\n",
        "from keras.models import Sequential, Model\n",
        "from keras.layers import Dense, Dropout, Activation, Flatten\n",
        "from keras.layers import Conv2D, MaxPooling2D\n",
        "\n",
        "(x_train, y_train),(x_test,y_test)= mnist.load_data()"
      ]
    },
    {
      "cell_type": "code",
      "execution_count": 17,
      "metadata": {
        "id": "SClzmH58QRHC"
      },
      "outputs": [],
      "source": [
        "from sklearn.model_selection import train_test_split\n",
        "import matplotlib.pyplot as plt\n",
        "import os\n",
        "import numpy as np\n",
        "import tensorflow as tf\n",
        "from keras.utils import np_utils\n",
        "from keras.models import Sequential\n",
        "from keras.layers import Dense, Activation, Dropout, Conv2D, MaxPooling2D, Flatten\n",
        "from tensorflow.keras.optimizers import SGD, RMSprop\n",
        "from keras.callbacks import EarlyStopping, ModelCheckpoint\n",
        "from sklearn.utils import validation \n",
        "from sklearn import preprocessing\n",
        "from tensorflow.keras.utils import to_categorical\n",
        "from tensorflow.keras.models import load_model\n",
        "from tensorflow.keras.utils import load_img, img_to_array\n",
        "from tensorflow.keras.preprocessing.image import ImageDataGenerator"
      ]
    },
    {
      "cell_type": "code",
      "execution_count": 18,
      "metadata": {
        "id": "30eZP6P-SHaM"
      },
      "outputs": [],
      "source": [
        "y_train = to_categorical(y_train)\n",
        "y_test = to_categorical(y_test)"
      ]
    },
    {
      "cell_type": "code",
      "execution_count": 19,
      "metadata": {
        "colab": {
          "base_uri": "https://localhost:8080/"
        },
        "id": "JyGhOca_Jmdw",
        "outputId": "787eed32-1e52-435f-cab0-929319adf831"
      },
      "outputs": [
        {
          "output_type": "execute_result",
          "data": {
            "text/plain": [
              "(60000, 28, 28)"
            ]
          },
          "metadata": {},
          "execution_count": 19
        }
      ],
      "source": [
        "x_train.shape"
      ]
    },
    {
      "cell_type": "code",
      "execution_count": 20,
      "metadata": {
        "colab": {
          "base_uri": "https://localhost:8080/"
        },
        "id": "ElcDNpa6Pufz",
        "outputId": "c8d9ed55-8884-4524-a41e-76c10ef82ddf"
      },
      "outputs": [
        {
          "output_type": "execute_result",
          "data": {
            "text/plain": [
              "(60000, 10)"
            ]
          },
          "metadata": {},
          "execution_count": 20
        }
      ],
      "source": [
        "y_train.shape"
      ]
    },
    {
      "cell_type": "code",
      "execution_count": 21,
      "metadata": {
        "colab": {
          "base_uri": "https://localhost:8080/"
        },
        "id": "qFC539RGQWIQ",
        "outputId": "0587baa9-413d-4cd5-9143-1906beafa82c"
      },
      "outputs": [
        {
          "output_type": "execute_result",
          "data": {
            "text/plain": [
              "(10000, 28, 28)"
            ]
          },
          "metadata": {},
          "execution_count": 21
        }
      ],
      "source": [
        "x_test.shape"
      ]
    },
    {
      "cell_type": "code",
      "execution_count": 22,
      "metadata": {
        "colab": {
          "base_uri": "https://localhost:8080/"
        },
        "id": "YlmA26jSRFZa",
        "outputId": "96f7fa0b-fe00-458d-8430-4b97a435a9c7"
      },
      "outputs": [
        {
          "output_type": "execute_result",
          "data": {
            "text/plain": [
              "(10000, 10)"
            ]
          },
          "metadata": {},
          "execution_count": 22
        }
      ],
      "source": [
        "y_test.shape"
      ]
    },
    {
      "cell_type": "code",
      "execution_count": 23,
      "metadata": {
        "id": "sTzfhtPdHTbo"
      },
      "outputs": [],
      "source": [
        "from keras.layers.convolutional.conv1d import Conv\n",
        "from keras.utils import load_img\n",
        "model = Sequential()\n",
        "model.add(Conv2D(32,kernel_size = (3,3),activation='relu',input_shape=(28,28,1),padding=\"same\"))\n",
        "model.add(MaxPooling2D((2,2),padding=\"same\"))\n",
        "\n",
        "model.add(Conv2D(64,kernel_size = (3,3), activation='relu',padding='same'))\n",
        "model.add(MaxPooling2D((2,2),padding='same'))\n",
        "\n",
        "model.add(Conv2D(128,kernel_size = (3,3), activation='relu',padding='same'))\n",
        "model.add(MaxPooling2D((2,2),padding='same'))\n",
        "\n",
        "model.add(Flatten())\n",
        "model.add(Dense(128,activation='relu'))\n",
        "model.add(Dense(10,activation='softmax'))"
      ]
    },
    {
      "cell_type": "code",
      "execution_count": 24,
      "metadata": {
        "colab": {
          "base_uri": "https://localhost:8080/"
        },
        "id": "TaLTLdlVHTiJ",
        "outputId": "2dcb2645-2760-4c3c-e8af-b1da857f3b50"
      },
      "outputs": [
        {
          "output_type": "stream",
          "name": "stdout",
          "text": [
            "Epoch 1/20\n",
            "469/469 - 97s - loss: 0.5697 - accuracy: 0.9258 - 97s/epoch - 206ms/step\n",
            "Epoch 2/20\n",
            "469/469 - 97s - loss: 0.0458 - accuracy: 0.9857 - 97s/epoch - 206ms/step\n",
            "Epoch 3/20\n",
            "469/469 - 98s - loss: 0.0332 - accuracy: 0.9892 - 98s/epoch - 208ms/step\n",
            "Epoch 4/20\n",
            "469/469 - 102s - loss: 0.0239 - accuracy: 0.9924 - 102s/epoch - 219ms/step\n",
            "Epoch 5/20\n",
            "469/469 - 98s - loss: 0.0237 - accuracy: 0.9924 - 98s/epoch - 209ms/step\n",
            "Epoch 6/20\n",
            "469/469 - 96s - loss: 0.0186 - accuracy: 0.9939 - 96s/epoch - 205ms/step\n",
            "Epoch 7/20\n",
            "469/469 - 97s - loss: 0.0217 - accuracy: 0.9928 - 97s/epoch - 207ms/step\n",
            "Epoch 8/20\n",
            "469/469 - 95s - loss: 0.0178 - accuracy: 0.9942 - 95s/epoch - 204ms/step\n",
            "Epoch 9/20\n",
            "469/469 - 96s - loss: 0.0171 - accuracy: 0.9942 - 96s/epoch - 204ms/step\n",
            "Epoch 10/20\n",
            "469/469 - 97s - loss: 0.0135 - accuracy: 0.9951 - 97s/epoch - 206ms/step\n",
            "Epoch 11/20\n",
            "469/469 - 95s - loss: 0.0157 - accuracy: 0.9950 - 95s/epoch - 203ms/step\n",
            "Epoch 12/20\n",
            "469/469 - 95s - loss: 0.0145 - accuracy: 0.9952 - 95s/epoch - 203ms/step\n",
            "Epoch 13/20\n",
            "469/469 - 97s - loss: 0.0150 - accuracy: 0.9952 - 97s/epoch - 206ms/step\n",
            "Epoch 14/20\n",
            "469/469 - 95s - loss: 0.0127 - accuracy: 0.9960 - 95s/epoch - 203ms/step\n",
            "Epoch 15/20\n",
            "469/469 - 95s - loss: 0.0107 - accuracy: 0.9964 - 95s/epoch - 203ms/step\n",
            "Epoch 16/20\n",
            "469/469 - 95s - loss: 0.0136 - accuracy: 0.9958 - 95s/epoch - 203ms/step\n",
            "Epoch 17/20\n",
            "469/469 - 95s - loss: 0.0143 - accuracy: 0.9958 - 95s/epoch - 202ms/step\n",
            "Epoch 18/20\n",
            "469/469 - 96s - loss: 0.0094 - accuracy: 0.9970 - 96s/epoch - 205ms/step\n",
            "Epoch 19/20\n",
            "469/469 - 95s - loss: 0.0112 - accuracy: 0.9965 - 95s/epoch - 202ms/step\n",
            "Epoch 20/20\n",
            "469/469 - 95s - loss: 0.0075 - accuracy: 0.9977 - 95s/epoch - 202ms/step\n"
          ]
        }
      ],
      "source": [
        "model.compile(loss='categorical_crossentropy',metrics=['accuracy'],optimizer='adam')\n",
        "history = model.fit(x_train,y_train,batch_size=128,epochs=20,verbose=2)"
      ]
    },
    {
      "cell_type": "code",
      "execution_count": 25,
      "metadata": {
        "id": "cr5KNcFxUXRp"
      },
      "outputs": [],
      "source": [
        "model.save('buoi8.h5')"
      ]
    },
    {
      "cell_type": "code",
      "execution_count": 26,
      "metadata": {
        "colab": {
          "base_uri": "https://localhost:8080/"
        },
        "id": "vwfE9fBmXBtY",
        "outputId": "331dece7-513e-4d6c-d419-047fe8c91415"
      },
      "outputs": [
        {
          "output_type": "stream",
          "name": "stdout",
          "text": [
            "313/313 [==============================] - 6s 18ms/step - loss: 0.0532 - accuracy: 0.9888\n",
            "Test accuracy: 0.9887999892234802\n"
          ]
        }
      ],
      "source": [
        "test_lost,test_acc=model.evaluate(x_test,y_test)\n",
        "print('Test accuracy:',test_acc)"
      ]
    },
    {
      "cell_type": "code",
      "execution_count": 31,
      "metadata": {
        "colab": {
          "base_uri": "https://localhost:8080/",
          "height": 302
        },
        "id": "gfp8KtQsXVz9",
        "outputId": "3c17b380-57ef-4118-a582-aefc4c98b980"
      },
      "outputs": [
        {
          "output_type": "stream",
          "name": "stdout",
          "text": [
            "1/1 [==============================] - 0s 18ms/step\n",
            "This is number: 2\n"
          ]
        },
        {
          "output_type": "display_data",
          "data": {
            "text/plain": [
              "<Figure size 432x288 with 1 Axes>"
            ],
            "image/png": "[encoded data removed]"
          },
          "metadata": {
            "needs_background": "light"
          }
        }
      ],
      "source": [
        "img = load_img('/content/2.jpg',target_size=(28,28))\n",
        "plt.imshow(img)\n",
        "img = img_to_array(img)\n",
        "img = img[:,:,0]\n",
        "img = img.astype('float32')\n",
        "img = img.reshape(1,28,28,1)\n",
        "img = img/255\n",
        "class_number=['1','2','3','4','5','6','7','8','9','0']\n",
        "a= int(np.argmax(model.predict(img),axis=1))\n",
        "print(\"This is number:\", class_number[a])"
      ]
    }
  ],
  "metadata": {
    "colab": {
      "collapsed_sections": [],
      "provenance": [],
      "authorship_tag": "ABX9TyOhCpUtC96Q3VA8zUuyF5B+",
      "include_colab_link": true
    },
    "kernelspec": {
      "display_name": "Python 3",
      "name": "python3"
    },
    "language_info": {
      "name": "python"
    }
  },
  "nbformat": 4,
  "nbformat_minor": 0
}